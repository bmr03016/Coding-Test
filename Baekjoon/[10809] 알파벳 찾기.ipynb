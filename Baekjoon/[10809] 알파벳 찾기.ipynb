{
 "cells": [
  {
   "cell_type": "markdown",
   "id": "4638762b",
   "metadata": {},
   "source": [
    "## 문제"
   ]
  },
  {
   "cell_type": "markdown",
   "id": "b4307ea9",
   "metadata": {},
   "source": [
    "알파벳 소문자로만 이루어진 단어 S가 주어진다. 각각의 알파벳에 대해서, 단어에 포함되어 있는 경우에는 처음 등장하는 위치를, 포함되어 있지 않은 경우에는 -1을 출력하는 프로그램을 작성하시오."
   ]
  },
  {
   "cell_type": "markdown",
   "id": "ead13b9c",
   "metadata": {},
   "source": [
    "## 입력"
   ]
  },
  {
   "cell_type": "markdown",
   "id": "f1e11094",
   "metadata": {},
   "source": [
    "첫째 줄에 단어 S가 주어진다. 단어의 길이는 100을 넘지 않으며, 알파벳 소문자로만 이루어져 있다."
   ]
  },
  {
   "cell_type": "markdown",
   "id": "7862c2da",
   "metadata": {},
   "source": [
    "## 출력"
   ]
  },
  {
   "cell_type": "markdown",
   "id": "7d6ec4de",
   "metadata": {},
   "source": [
    "각각의 알파벳에 대해서, a가 처음 등장하는 위치, b가 처음 등장하는 위치, ... z가 처음 등장하는 위치를 공백으로 구분해서 출력한다.\n",
    "\n",
    "만약, 어떤 알파벳이 단어에 포함되어 있지 않다면 -1을 출력한다. 단어의 첫 번째 글자는 0번째 위치이고, 두 번째 글자는 1번째 위치이다."
   ]
  },
  {
   "cell_type": "markdown",
   "id": "85bfa40a",
   "metadata": {},
   "source": [
    "## 예제 입력"
   ]
  },
  {
   "cell_type": "markdown",
   "id": "86bbcec3",
   "metadata": {},
   "source": [
    "baekjoon"
   ]
  },
  {
   "cell_type": "markdown",
   "id": "17e1ce00",
   "metadata": {},
   "source": [
    "## 예제 출력"
   ]
  },
  {
   "cell_type": "markdown",
   "id": "a0c0105e",
   "metadata": {},
   "source": [
    "1 0 -1 -1 2 -1 -1 -1 -1 4 3 -1 -1 7 5 -1 -1 -1 -1 -1 -1 -1 -1 -1 -1 -1"
   ]
  },
  {
   "cell_type": "code",
   "execution_count": 4,
   "id": "78c6474d",
   "metadata": {},
   "outputs": [
    {
     "name": "stdout",
     "output_type": "stream",
     "text": [
      "baekjoon\n",
      "1 0 -1 -1 2 -1 -1 -1 -1 4 3 -1 -1 7 5 -1 -1 -1 -1 -1 -1 -1 -1 -1 -1 -1 "
     ]
    }
   ],
   "source": [
    "S = list(input())\n",
    "alpha = 'abcdefghijklmnopqrstuvwxyz'\n",
    "\n",
    "for i in alpha:\n",
    "    if i in S:\n",
    "        print(S.index(i), end = \" \")\n",
    "    else:\n",
    "        print(-1, end = \" \")"
   ]
  },
  {
   "cell_type": "markdown",
   "id": "4fbaa367",
   "metadata": {},
   "source": [
    "📍 **index( ) 함수란?**\n",
    "\n",
    "- 어떠한 리스트 안에서 특정 원소의 위치, 즉 인덱스를 찾고 싶을 때 사용하는 함수\n",
    "- 특정 원소가 그 리스트에서 **'처음으로 등장하는 위치'**를 찾아 반환한다.\n",
    "- 다시 말해, index( ) 함수를 통해 확인한 인덱스 값은 첫 번째 등장 위치만 가리킬 뿐, 그 이후 나머지 위치들은 알 수 없다."
   ]
  },
  {
   "cell_type": "markdown",
   "id": "1ebd6595",
   "metadata": {},
   "source": [
    "for문 이용해서 알파벳들이 'baekjoon'에 있는 지 검색하고, 있으면 index 출력 없으면 -1 출력"
   ]
  }
 ],
 "metadata": {
  "kernelspec": {
   "display_name": "Python 3 (ipykernel)",
   "language": "python",
   "name": "python3"
  },
  "language_info": {
   "codemirror_mode": {
    "name": "ipython",
    "version": 3
   },
   "file_extension": ".py",
   "mimetype": "text/x-python",
   "name": "python",
   "nbconvert_exporter": "python",
   "pygments_lexer": "ipython3",
   "version": "3.10.9"
  }
 },
 "nbformat": 4,
 "nbformat_minor": 5
}
